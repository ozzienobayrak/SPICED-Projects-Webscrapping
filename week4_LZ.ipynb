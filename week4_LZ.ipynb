{
 "cells": [
  {
   "cell_type": "code",
   "execution_count": 1,
   "id": "e2245ca0",
   "metadata": {},
   "outputs": [
    {
     "name": "stderr",
     "output_type": "stream",
     "text": [
      "/Applications/anaconda3/lib/python3.9/site-packages/statsmodels/compat/pandas.py:65: FutureWarning: pandas.Int64Index is deprecated and will be removed from pandas in a future version. Use pandas.Index with the appropriate dtype instead.\n",
      "  from pandas import Int64Index as NumericIndex\n"
     ]
    }
   ],
   "source": [
    "#Bag of words\n",
    "#Regex and Language Models\n",
    "import csv\n",
    "import pandas as pd\n",
    "import matplotlib.pyplot as plt\n",
    "import numpy as np\n",
    "import seaborn as sns\n",
    "\n",
    "#logistic regression\n",
    "import statsmodels.discrete.discrete_model as sm\n",
    "\n",
    "import os\n",
    "#os.getcwd()\n",
    "os.chdir('/Users/ozlemalbayrak//Downloads/SPICED/EXERCISES/week4')\n",
    "\n",
    "\n",
    "import csv\n",
    "import pandas as pd\n",
    "import matplotlib.pyplot as plt\n",
    "import numpy as np\n",
    "import seaborn as sns\n",
    "\n",
    "#logistic regression\n",
    "import statsmodels.discrete.discrete_model as sm\n",
    "import os\n",
    "os.chdir\n",
    "#logistic regression\n",
    "import statsmodels.discrete.discrete_model as sm\n",
    "from sklearn.model_selection import train_test_split\n",
    "from sklearn.tree import DecisionTreeClassifier\n",
    "from sklearn.metrics import accuracy_score\n",
    "from sklearn.tree import plot_tree\n",
    "from sklearn.linear_model import LogisticRegression\n",
    "\n",
    "from sklearn.metrics import accuracy_score, precision_score, recall_score, classification_report  \n",
    "from sklearn.metrics import confusion_matrix, ConfusionMatrixDisplay\n",
    "from sklearn.metrics import RocCurveDisplay, roc_curve, roc_auc_score\n",
    "from sklearn.metrics import precision_recall_curve, plot_precision_recall_curve\n",
    "\n",
    "from sklearn.metrics import accuracy_score\n",
    "from sklearn.metrics import precision_score\n",
    "from sklearn.metrics import f1_score\n",
    "from sklearn.model_selection import cross_val_score\n",
    "\n",
    "#regularisation\n",
    "\n",
    "\n",
    "from sklearn.linear_model import Ridge\n",
    "from sklearn.linear_model import Ridge\n",
    "from sklearn.linear_model import Lasso\n",
    "from sklearn.linear_model import ElasticNet\n",
    "#print(sklearn.__file__)\n",
    "\n",
    "\n",
    "#Defining html\n",
    "import requests\n",
    "from bs4 import BeautifulSoup"
   ]
  },
  {
   "cell_type": "code",
   "execution_count": 141,
   "id": "ad51eccc",
   "metadata": {},
   "outputs": [],
   "source": [
    "#df_new=pd.readlines.csv()(str(df_all['lyrics'].iloc[0]).split('\\r'))\n",
    "df_all=pd.read_csv('LZ_Queen3.csv', index_col=0)"
   ]
  },
  {
   "cell_type": "code",
   "execution_count": 142,
   "id": "f345d9b0",
   "metadata": {},
   "outputs": [
    {
     "data": {
      "text/html": [
       "<div>\n",
       "<style scoped>\n",
       "    .dataframe tbody tr th:only-of-type {\n",
       "        vertical-align: middle;\n",
       "    }\n",
       "\n",
       "    .dataframe tbody tr th {\n",
       "        vertical-align: top;\n",
       "    }\n",
       "\n",
       "    .dataframe thead th {\n",
       "        text-align: right;\n",
       "    }\n",
       "</style>\n",
       "<table border=\"1\" class=\"dataframe\">\n",
       "  <thead>\n",
       "    <tr style=\"text-align: right;\">\n",
       "      <th></th>\n",
       "      <th>title</th>\n",
       "      <th>links</th>\n",
       "      <th>lyrics</th>\n",
       "      <th>artist</th>\n",
       "    </tr>\n",
       "  </thead>\n",
       "  <tbody>\n",
       "    <tr>\n",
       "      <th>0</th>\n",
       "      <td>Whole Lotta Love</td>\n",
       "      <td>https://www.lyrics.com//lyric/35471949/Led+Zep...</td>\n",
       "      <td>['You need cooling\\r', \"Baby I'm not fooling\\r...</td>\n",
       "      <td>Led Zeppelin</td>\n",
       "    </tr>\n",
       "    <tr>\n",
       "      <th>1</th>\n",
       "      <td>Stairway to Heaven</td>\n",
       "      <td>https://www.lyrics.com//lyric/35471947/Led+Zep...</td>\n",
       "      <td>[\"There's a lady who's sure\\r\", 'All that glit...</td>\n",
       "      <td>Led Zeppelin</td>\n",
       "    </tr>\n",
       "    <tr>\n",
       "      <th>2</th>\n",
       "      <td>Going to California</td>\n",
       "      <td>https://www.lyrics.com//lyric/35471945/Led+Zep...</td>\n",
       "      <td>['Spent my days with a woman unkind\\r', 'Smoke...</td>\n",
       "      <td>Led Zeppelin</td>\n",
       "    </tr>\n",
       "    <tr>\n",
       "      <th>3</th>\n",
       "      <td>Ramble On</td>\n",
       "      <td>https://www.lyrics.com//lyric/35471944/Led+Zep...</td>\n",
       "      <td>['Leaves are falling all around\\r', \"It's time...</td>\n",
       "      <td>Led Zeppelin</td>\n",
       "    </tr>\n",
       "    <tr>\n",
       "      <th>4</th>\n",
       "      <td>Kashmir</td>\n",
       "      <td>https://www.lyrics.com//lyric/35471943/Led+Zep...</td>\n",
       "      <td>['Oh, let the sun beat down upon my face\\r', '...</td>\n",
       "      <td>Led Zeppelin</td>\n",
       "    </tr>\n",
       "  </tbody>\n",
       "</table>\n",
       "</div>"
      ],
      "text/plain": [
       "                 title                                              links  \\\n",
       "0     Whole Lotta Love  https://www.lyrics.com//lyric/35471949/Led+Zep...   \n",
       "1   Stairway to Heaven  https://www.lyrics.com//lyric/35471947/Led+Zep...   \n",
       "2  Going to California  https://www.lyrics.com//lyric/35471945/Led+Zep...   \n",
       "3            Ramble On  https://www.lyrics.com//lyric/35471944/Led+Zep...   \n",
       "4              Kashmir  https://www.lyrics.com//lyric/35471943/Led+Zep...   \n",
       "\n",
       "                                              lyrics        artist  \n",
       "0  ['You need cooling\\r', \"Baby I'm not fooling\\r...  Led Zeppelin  \n",
       "1  [\"There's a lady who's sure\\r\", 'All that glit...  Led Zeppelin  \n",
       "2  ['Spent my days with a woman unkind\\r', 'Smoke...  Led Zeppelin  \n",
       "3  ['Leaves are falling all around\\r', \"It's time...  Led Zeppelin  \n",
       "4  ['Oh, let the sun beat down upon my face\\r', '...  Led Zeppelin  "
      ]
     },
     "execution_count": 142,
     "metadata": {},
     "output_type": "execute_result"
    }
   ],
   "source": [
    "df_all.head()"
   ]
  },
  {
   "cell_type": "code",
   "execution_count": 143,
   "id": "6ded25a2",
   "metadata": {},
   "outputs": [
    {
     "data": {
      "text/plain": [
       "1561"
      ]
     },
     "execution_count": 143,
     "metadata": {},
     "output_type": "execute_result"
    }
   ],
   "source": [
    "len(df_all['lyrics'].iloc[0])\n"
   ]
  },
  {
   "cell_type": "code",
   "execution_count": 144,
   "id": "5fffce38",
   "metadata": {},
   "outputs": [
    {
     "data": {
      "text/plain": [
       "str"
      ]
     },
     "execution_count": 144,
     "metadata": {},
     "output_type": "execute_result"
    }
   ],
   "source": [
    "firstline=df_all['lyrics'].iloc[0][0]\n",
    "type(firstline)\n"
   ]
  },
  {
   "cell_type": "code",
   "execution_count": 145,
   "id": "6fd0eb38",
   "metadata": {},
   "outputs": [
    {
     "data": {
      "text/html": [
       "<div>\n",
       "<style scoped>\n",
       "    .dataframe tbody tr th:only-of-type {\n",
       "        vertical-align: middle;\n",
       "    }\n",
       "\n",
       "    .dataframe tbody tr th {\n",
       "        vertical-align: top;\n",
       "    }\n",
       "\n",
       "    .dataframe thead th {\n",
       "        text-align: right;\n",
       "    }\n",
       "</style>\n",
       "<table border=\"1\" class=\"dataframe\">\n",
       "  <thead>\n",
       "    <tr style=\"text-align: right;\">\n",
       "      <th></th>\n",
       "      <th>title</th>\n",
       "      <th>links</th>\n",
       "      <th>lyrics</th>\n",
       "      <th>artist</th>\n",
       "      <th>artistnew</th>\n",
       "    </tr>\n",
       "  </thead>\n",
       "  <tbody>\n",
       "    <tr>\n",
       "      <th>0</th>\n",
       "      <td>Whole Lotta Love</td>\n",
       "      <td>https://www.lyrics.com//lyric/35471949/Led+Zep...</td>\n",
       "      <td>['You need cooling\\r', \"Baby I'm not fooling\\r...</td>\n",
       "      <td>Led Zeppelin</td>\n",
       "      <td>0</td>\n",
       "    </tr>\n",
       "    <tr>\n",
       "      <th>1</th>\n",
       "      <td>Stairway to Heaven</td>\n",
       "      <td>https://www.lyrics.com//lyric/35471947/Led+Zep...</td>\n",
       "      <td>[\"There's a lady who's sure\\r\", 'All that glit...</td>\n",
       "      <td>Led Zeppelin</td>\n",
       "      <td>0</td>\n",
       "    </tr>\n",
       "    <tr>\n",
       "      <th>2</th>\n",
       "      <td>Going to California</td>\n",
       "      <td>https://www.lyrics.com//lyric/35471945/Led+Zep...</td>\n",
       "      <td>['Spent my days with a woman unkind\\r', 'Smoke...</td>\n",
       "      <td>Led Zeppelin</td>\n",
       "      <td>0</td>\n",
       "    </tr>\n",
       "    <tr>\n",
       "      <th>3</th>\n",
       "      <td>Ramble On</td>\n",
       "      <td>https://www.lyrics.com//lyric/35471944/Led+Zep...</td>\n",
       "      <td>['Leaves are falling all around\\r', \"It's time...</td>\n",
       "      <td>Led Zeppelin</td>\n",
       "      <td>0</td>\n",
       "    </tr>\n",
       "    <tr>\n",
       "      <th>4</th>\n",
       "      <td>Kashmir</td>\n",
       "      <td>https://www.lyrics.com//lyric/35471943/Led+Zep...</td>\n",
       "      <td>['Oh, let the sun beat down upon my face\\r', '...</td>\n",
       "      <td>Led Zeppelin</td>\n",
       "      <td>0</td>\n",
       "    </tr>\n",
       "  </tbody>\n",
       "</table>\n",
       "</div>"
      ],
      "text/plain": [
       "                 title                                              links  \\\n",
       "0     Whole Lotta Love  https://www.lyrics.com//lyric/35471949/Led+Zep...   \n",
       "1   Stairway to Heaven  https://www.lyrics.com//lyric/35471947/Led+Zep...   \n",
       "2  Going to California  https://www.lyrics.com//lyric/35471945/Led+Zep...   \n",
       "3            Ramble On  https://www.lyrics.com//lyric/35471944/Led+Zep...   \n",
       "4              Kashmir  https://www.lyrics.com//lyric/35471943/Led+Zep...   \n",
       "\n",
       "                                              lyrics        artist  artistnew  \n",
       "0  ['You need cooling\\r', \"Baby I'm not fooling\\r...  Led Zeppelin          0  \n",
       "1  [\"There's a lady who's sure\\r\", 'All that glit...  Led Zeppelin          0  \n",
       "2  ['Spent my days with a woman unkind\\r', 'Smoke...  Led Zeppelin          0  \n",
       "3  ['Leaves are falling all around\\r', \"It's time...  Led Zeppelin          0  \n",
       "4  ['Oh, let the sun beat down upon my face\\r', '...  Led Zeppelin          0  "
      ]
     },
     "execution_count": 145,
     "metadata": {},
     "output_type": "execute_result"
    }
   ],
   "source": [
    "#Led Zeppelin=0, Queen=1\n",
    "df_all['artist'].value_counts()\n",
    "df_all['artistnew']=np.where(df_all['artist']=='Led Zeppelin' , 0 , 1)\n",
    "df_all.head()"
   ]
  },
  {
   "cell_type": "code",
   "execution_count": 146,
   "id": "8c01d625",
   "metadata": {},
   "outputs": [
    {
     "data": {
      "text/plain": [
       "0    100\n",
       "1    100\n",
       "Name: artistnew, dtype: int64"
      ]
     },
     "execution_count": 146,
     "metadata": {},
     "output_type": "execute_result"
    }
   ],
   "source": [
    "df_all['artistnew'].value_counts()\n"
   ]
  },
  {
   "cell_type": "code",
   "execution_count": 153,
   "id": "ca47aab0",
   "metadata": {},
   "outputs": [],
   "source": [
    "df_dall=df_all.drop_duplicates('title')"
   ]
  },
  {
   "cell_type": "code",
   "execution_count": 154,
   "id": "30ee94b8",
   "metadata": {},
   "outputs": [
    {
     "data": {
      "text/plain": [
       "(144, 5)"
      ]
     },
     "execution_count": 154,
     "metadata": {},
     "output_type": "execute_result"
    }
   ],
   "source": [
    "df_dall.shape"
   ]
  },
  {
   "cell_type": "code",
   "execution_count": 156,
   "id": "8d44ea34",
   "metadata": {},
   "outputs": [],
   "source": [
    "df_dall.to_csv(\"~/Downloads/SPICED/EXERCISES/week4/LZ_Queen4.csv\")"
   ]
  },
  {
   "cell_type": "code",
   "execution_count": 157,
   "id": "4f8e75c2",
   "metadata": {},
   "outputs": [],
   "source": [
    "df_dall=pd.read_csv('LZ_Queen4.csv', index_col=0)"
   ]
  },
  {
   "cell_type": "code",
   "execution_count": 161,
   "id": "2c147057",
   "metadata": {},
   "outputs": [
    {
     "data": {
      "text/plain": [
       "1    81\n",
       "0    63\n",
       "Name: artistnew, dtype: int64"
      ]
     },
     "execution_count": 161,
     "metadata": {},
     "output_type": "execute_result"
    }
   ],
   "source": [
    "df_dall['artistnew'].value_counts()"
   ]
  },
  {
   "cell_type": "code",
   "execution_count": 162,
   "id": "e6463a06",
   "metadata": {},
   "outputs": [
    {
     "data": {
      "text/html": [
       "<div>\n",
       "<style scoped>\n",
       "    .dataframe tbody tr th:only-of-type {\n",
       "        vertical-align: middle;\n",
       "    }\n",
       "\n",
       "    .dataframe tbody tr th {\n",
       "        vertical-align: top;\n",
       "    }\n",
       "\n",
       "    .dataframe thead th {\n",
       "        text-align: right;\n",
       "    }\n",
       "</style>\n",
       "<table border=\"1\" class=\"dataframe\">\n",
       "  <thead>\n",
       "    <tr style=\"text-align: right;\">\n",
       "      <th></th>\n",
       "      <th>title</th>\n",
       "      <th>links</th>\n",
       "      <th>lyrics</th>\n",
       "      <th>artist</th>\n",
       "      <th>artistnew</th>\n",
       "    </tr>\n",
       "  </thead>\n",
       "  <tbody>\n",
       "    <tr>\n",
       "      <th>0</th>\n",
       "      <td>Whole Lotta Love</td>\n",
       "      <td>https://www.lyrics.com//lyric/35471949/Led+Zep...</td>\n",
       "      <td>['You need cooling\\r', \"Baby I'm not fooling\\r...</td>\n",
       "      <td>Led Zeppelin</td>\n",
       "      <td>0</td>\n",
       "    </tr>\n",
       "    <tr>\n",
       "      <th>1</th>\n",
       "      <td>Stairway to Heaven</td>\n",
       "      <td>https://www.lyrics.com//lyric/35471947/Led+Zep...</td>\n",
       "      <td>[\"There's a lady who's sure\\r\", 'All that glit...</td>\n",
       "      <td>Led Zeppelin</td>\n",
       "      <td>0</td>\n",
       "    </tr>\n",
       "    <tr>\n",
       "      <th>2</th>\n",
       "      <td>Going to California</td>\n",
       "      <td>https://www.lyrics.com//lyric/35471945/Led+Zep...</td>\n",
       "      <td>['Spent my days with a woman unkind\\r', 'Smoke...</td>\n",
       "      <td>Led Zeppelin</td>\n",
       "      <td>0</td>\n",
       "    </tr>\n",
       "    <tr>\n",
       "      <th>3</th>\n",
       "      <td>Ramble On</td>\n",
       "      <td>https://www.lyrics.com//lyric/35471944/Led+Zep...</td>\n",
       "      <td>['Leaves are falling all around\\r', \"It's time...</td>\n",
       "      <td>Led Zeppelin</td>\n",
       "      <td>0</td>\n",
       "    </tr>\n",
       "    <tr>\n",
       "      <th>4</th>\n",
       "      <td>Kashmir</td>\n",
       "      <td>https://www.lyrics.com//lyric/35471943/Led+Zep...</td>\n",
       "      <td>['Oh, let the sun beat down upon my face\\r', '...</td>\n",
       "      <td>Led Zeppelin</td>\n",
       "      <td>0</td>\n",
       "    </tr>\n",
       "  </tbody>\n",
       "</table>\n",
       "</div>"
      ],
      "text/plain": [
       "                 title                                              links  \\\n",
       "0     Whole Lotta Love  https://www.lyrics.com//lyric/35471949/Led+Zep...   \n",
       "1   Stairway to Heaven  https://www.lyrics.com//lyric/35471947/Led+Zep...   \n",
       "2  Going to California  https://www.lyrics.com//lyric/35471945/Led+Zep...   \n",
       "3            Ramble On  https://www.lyrics.com//lyric/35471944/Led+Zep...   \n",
       "4              Kashmir  https://www.lyrics.com//lyric/35471943/Led+Zep...   \n",
       "\n",
       "                                              lyrics        artist  artistnew  \n",
       "0  ['You need cooling\\r', \"Baby I'm not fooling\\r...  Led Zeppelin          0  \n",
       "1  [\"There's a lady who's sure\\r\", 'All that glit...  Led Zeppelin          0  \n",
       "2  ['Spent my days with a woman unkind\\r', 'Smoke...  Led Zeppelin          0  \n",
       "3  ['Leaves are falling all around\\r', \"It's time...  Led Zeppelin          0  \n",
       "4  ['Oh, let the sun beat down upon my face\\r', '...  Led Zeppelin          0  "
      ]
     },
     "execution_count": 162,
     "metadata": {},
     "output_type": "execute_result"
    }
   ],
   "source": [
    "df_dall.head()"
   ]
  },
  {
   "cell_type": "code",
   "execution_count": 199,
   "id": "83605804",
   "metadata": {},
   "outputs": [],
   "source": [
    "#Using Regex to drop repeated entries in the data\n",
    "import re\n",
    "re.findall(title_pattern,html_content)"
   ]
  },
  {
   "cell_type": "code",
   "execution_count": 201,
   "id": "c623ba20",
   "metadata": {},
   "outputs": [
    {
     "name": "stdout",
     "output_type": "stream",
     "text": [
      "Collecting spacy\n",
      "  Downloading spacy-3.2.1-cp39-cp39-macosx_10_9_x86_64.whl (6.3 MB)\n",
      "\u001b[K     |████████████████████████████████| 6.3 MB 3.9 MB/s \n",
      "\u001b[?25hCollecting wasabi<1.1.0,>=0.8.1\n",
      "  Downloading wasabi-0.9.0-py3-none-any.whl (25 kB)\n",
      "Collecting cymem<2.1.0,>=2.0.2\n",
      "  Downloading cymem-2.0.6-cp39-cp39-macosx_10_9_x86_64.whl (32 kB)\n",
      "Collecting catalogue<2.1.0,>=2.0.6\n",
      "  Downloading catalogue-2.0.6-py3-none-any.whl (17 kB)\n",
      "Requirement already satisfied: tqdm<5.0.0,>=4.38.0 in /Applications/anaconda3/lib/python3.9/site-packages (from spacy) (4.62.3)\n",
      "Collecting murmurhash<1.1.0,>=0.28.0\n",
      "  Downloading murmurhash-1.0.6-cp39-cp39-macosx_10_9_x86_64.whl (18 kB)\n",
      "Collecting spacy-legacy<3.1.0,>=3.0.8\n",
      "  Downloading spacy_legacy-3.0.8-py2.py3-none-any.whl (14 kB)\n",
      "Requirement already satisfied: jinja2 in /Applications/anaconda3/lib/python3.9/site-packages (from spacy) (2.11.3)\n",
      "Collecting pathy>=0.3.5\n",
      "  Downloading pathy-0.6.1-py3-none-any.whl (42 kB)\n",
      "\u001b[K     |████████████████████████████████| 42 kB 3.4 MB/s \n",
      "\u001b[?25hRequirement already satisfied: packaging>=20.0 in /Applications/anaconda3/lib/python3.9/site-packages (from spacy) (21.3)\n",
      "Requirement already satisfied: requests<3.0.0,>=2.13.0 in /Applications/anaconda3/lib/python3.9/site-packages (from spacy) (2.27.1)\n",
      "Collecting thinc<8.1.0,>=8.0.12\n",
      "  Downloading thinc-8.0.13-cp39-cp39-macosx_10_9_x86_64.whl (615 kB)\n",
      "\u001b[K     |████████████████████████████████| 615 kB 2.6 MB/s \n",
      "\u001b[?25hCollecting preshed<3.1.0,>=3.0.2\n",
      "  Downloading preshed-3.0.6-cp39-cp39-macosx_10_9_x86_64.whl (106 kB)\n",
      "\u001b[K     |████████████████████████████████| 106 kB 4.6 MB/s \n",
      "\u001b[?25hCollecting srsly<3.0.0,>=2.4.1\n",
      "  Downloading srsly-2.4.2-cp39-cp39-macosx_10_9_x86_64.whl (452 kB)\n",
      "\u001b[K     |████████████████████████████████| 452 kB 7.1 MB/s \n",
      "\u001b[?25hCollecting spacy-loggers<2.0.0,>=1.0.0\n",
      "  Downloading spacy_loggers-1.0.1-py3-none-any.whl (7.0 kB)\n",
      "Collecting blis<0.8.0,>=0.4.0\n",
      "  Downloading blis-0.7.5-cp39-cp39-macosx_10_9_x86_64.whl (5.8 MB)\n",
      "\u001b[K     |████████████████████████████████| 5.8 MB 2.6 MB/s \n",
      "\u001b[?25hRequirement already satisfied: numpy>=1.15.0 in /Applications/anaconda3/lib/python3.9/site-packages (from spacy) (1.22.1)\n",
      "Requirement already satisfied: setuptools in /Applications/anaconda3/lib/python3.9/site-packages (from spacy) (58.0.4)\n",
      "Collecting typer<0.5.0,>=0.3.0\n",
      "  Downloading typer-0.4.0-py3-none-any.whl (27 kB)\n",
      "Collecting langcodes<4.0.0,>=3.2.0\n",
      "  Downloading langcodes-3.3.0-py3-none-any.whl (181 kB)\n",
      "\u001b[K     |████████████████████████████████| 181 kB 11.3 MB/s \n",
      "\u001b[?25hCollecting pydantic!=1.8,!=1.8.1,<1.9.0,>=1.7.4\n",
      "  Downloading pydantic-1.8.2-cp39-cp39-macosx_10_9_x86_64.whl (2.7 MB)\n",
      "\u001b[K     |████████████████████████████████| 2.7 MB 3.0 MB/s \n",
      "\u001b[?25hRequirement already satisfied: pyparsing!=3.0.5,>=2.0.2 in /Applications/anaconda3/lib/python3.9/site-packages (from packaging>=20.0->spacy) (3.0.4)\n",
      "Collecting smart-open<6.0.0,>=5.0.0\n",
      "  Downloading smart_open-5.2.1-py3-none-any.whl (58 kB)\n",
      "\u001b[K     |████████████████████████████████| 58 kB 3.5 MB/s \n",
      "\u001b[?25hCollecting typing-extensions>=3.7.4.3\n",
      "  Downloading typing_extensions-4.0.1-py3-none-any.whl (22 kB)\n",
      "Requirement already satisfied: charset-normalizer~=2.0.0 in /Applications/anaconda3/lib/python3.9/site-packages (from requests<3.0.0,>=2.13.0->spacy) (2.0.4)\n",
      "Requirement already satisfied: certifi>=2017.4.17 in /Applications/anaconda3/lib/python3.9/site-packages (from requests<3.0.0,>=2.13.0->spacy) (2021.10.8)\n",
      "Requirement already satisfied: idna<4,>=2.5 in /Applications/anaconda3/lib/python3.9/site-packages (from requests<3.0.0,>=2.13.0->spacy) (3.3)\n",
      "Requirement already satisfied: urllib3<1.27,>=1.21.1 in /Applications/anaconda3/lib/python3.9/site-packages (from requests<3.0.0,>=2.13.0->spacy) (1.26.8)\n",
      "Requirement already satisfied: click<9.0.0,>=7.1.1 in /Applications/anaconda3/lib/python3.9/site-packages (from typer<0.5.0,>=0.3.0->spacy) (8.0.3)\n",
      "Requirement already satisfied: MarkupSafe>=0.23 in /Applications/anaconda3/lib/python3.9/site-packages (from jinja2->spacy) (2.0.1)\n",
      "Installing collected packages: typing-extensions, murmurhash, cymem, catalogue, wasabi, typer, srsly, smart-open, pydantic, preshed, blis, thinc, spacy-loggers, spacy-legacy, pathy, langcodes, spacy\n",
      "Successfully installed blis-0.7.5 catalogue-2.0.6 cymem-2.0.6 langcodes-3.3.0 murmurhash-1.0.6 pathy-0.6.1 preshed-3.0.6 pydantic-1.8.2 smart-open-5.2.1 spacy-3.2.1 spacy-legacy-3.0.8 spacy-loggers-1.0.1 srsly-2.4.2 thinc-8.0.13 typer-0.4.0 typing-extensions-4.0.1 wasabi-0.9.0\n"
     ]
    }
   ],
   "source": [
    "!pip install spacy"
   ]
  },
  {
   "cell_type": "code",
   "execution_count": 202,
   "id": "77ddf212",
   "metadata": {},
   "outputs": [],
   "source": [
    "import spaCY\n",
    "spacy"
   ]
  },
  {
   "cell_type": "code",
   "execution_count": 200,
   "id": "31801efa",
   "metadata": {},
   "outputs": [],
   "source": [
    "#Bag of Words:Vectorization\n",
    "import numpy as np\n",
    "import re\n",
    "import pandas as pd\n",
    "\n",
    "from sklearn.feature_extraction.text import CountVectorizer\n",
    "from sklearn.feature_extraction.text import TfidfVectorizer\n",
    "\n",
    "from sklearn.linear_model import LogisticRegression\n",
    "from sklearn.model_selection import train_test_split"
   ]
  },
  {
   "cell_type": "code",
   "execution_count": 164,
   "id": "f557c713",
   "metadata": {},
   "outputs": [
    {
     "data": {
      "text/plain": [
       "((200,), (200,))"
      ]
     },
     "execution_count": 164,
     "metadata": {},
     "output_type": "execute_result"
    }
   ],
   "source": [
    "##Training my data\n",
    "X =df_all['lyrics']\n",
    "y = df_all['artistnew']\n",
    "X.shape, y.shape"
   ]
  },
  {
   "cell_type": "code",
   "execution_count": 165,
   "id": "b8dcd258",
   "metadata": {},
   "outputs": [],
   "source": [
    "X_train, X_test, y_train, y_test = train_test_split(X, y, test_size=0.2, random_state=13)"
   ]
  },
  {
   "cell_type": "code",
   "execution_count": 166,
   "id": "e9af7239",
   "metadata": {},
   "outputs": [
    {
     "data": {
      "text/plain": [
       "<160x6484 sparse matrix of type '<class 'numpy.int64'>'\n",
       "\twith 17640 stored elements in Compressed Sparse Row format>"
      ]
     },
     "execution_count": 166,
     "metadata": {},
     "output_type": "execute_result"
    }
   ],
   "source": [
    "##TOKEN_PATTERN: will take only words with letters and 4 letter words and higher (ignoring words with 3 and less letters)\n",
    "##ngram_range says not one to one comparison of the same words but do pair comparisons\n",
    "vectorizer = CountVectorizer(lowercase=True, stop_words='english', token_pattern='[A-Za-z+]{4,}', ngram_range=(1,2))\n",
    "X_cv = vectorizer.fit_transform(X_train)\n",
    "X_cv"
   ]
  },
  {
   "cell_type": "code",
   "execution_count": 167,
   "id": "dc834284",
   "metadata": {},
   "outputs": [
    {
     "data": {
      "text/plain": [
       "array(['aaaaaaaarghh', 'aaaaaaaarghh ogre', 'aaah', ..., 'young crazy',\n",
       "       'young hard', 'young poor'], dtype=object)"
      ]
     },
     "execution_count": 167,
     "metadata": {},
     "output_type": "execute_result"
    }
   ],
   "source": [
    "vectorizer.get_feature_names_out()"
   ]
  },
  {
   "cell_type": "code",
   "execution_count": 168,
   "id": "e7c46bdb",
   "metadata": {},
   "outputs": [
    {
     "name": "stderr",
     "output_type": "stream",
     "text": [
      "/Applications/anaconda3/lib/python3.9/site-packages/sklearn/utils/deprecation.py:87: FutureWarning: Function get_feature_names is deprecated; get_feature_names is deprecated in 1.0 and will be removed in 1.2. Please use get_feature_names_out instead.\n",
      "  warnings.warn(msg, category=FutureWarning)\n"
     ]
    },
    {
     "data": {
      "text/html": [
       "<div>\n",
       "<style scoped>\n",
       "    .dataframe tbody tr th:only-of-type {\n",
       "        vertical-align: middle;\n",
       "    }\n",
       "\n",
       "    .dataframe tbody tr th {\n",
       "        vertical-align: top;\n",
       "    }\n",
       "\n",
       "    .dataframe thead th {\n",
       "        text-align: right;\n",
       "    }\n",
       "</style>\n",
       "<table border=\"1\" class=\"dataframe\">\n",
       "  <thead>\n",
       "    <tr style=\"text-align: right;\">\n",
       "      <th></th>\n",
       "      <th>aaaaaaaarghh</th>\n",
       "      <th>aaaaaaaarghh ogre</th>\n",
       "      <th>aaah</th>\n",
       "      <th>aaah staring</th>\n",
       "      <th>aaargh</th>\n",
       "      <th>aaargh aaaaaaaarghh</th>\n",
       "      <th>abandoned</th>\n",
       "      <th>abandoned places</th>\n",
       "      <th>absolutely</th>\n",
       "      <th>absolutely drive</th>\n",
       "      <th>...</th>\n",
       "      <th>yesterday grow</th>\n",
       "      <th>yesterday life</th>\n",
       "      <th>yonder</th>\n",
       "      <th>yonder burying</th>\n",
       "      <th>yonder gone</th>\n",
       "      <th>yonder looky</th>\n",
       "      <th>young</th>\n",
       "      <th>young crazy</th>\n",
       "      <th>young hard</th>\n",
       "      <th>young poor</th>\n",
       "    </tr>\n",
       "  </thead>\n",
       "  <tbody>\n",
       "    <tr>\n",
       "      <th>0</th>\n",
       "      <td>0</td>\n",
       "      <td>0</td>\n",
       "      <td>0</td>\n",
       "      <td>0</td>\n",
       "      <td>0</td>\n",
       "      <td>0</td>\n",
       "      <td>0</td>\n",
       "      <td>0</td>\n",
       "      <td>0</td>\n",
       "      <td>0</td>\n",
       "      <td>...</td>\n",
       "      <td>0</td>\n",
       "      <td>0</td>\n",
       "      <td>0</td>\n",
       "      <td>0</td>\n",
       "      <td>0</td>\n",
       "      <td>0</td>\n",
       "      <td>0</td>\n",
       "      <td>0</td>\n",
       "      <td>0</td>\n",
       "      <td>0</td>\n",
       "    </tr>\n",
       "    <tr>\n",
       "      <th>1</th>\n",
       "      <td>0</td>\n",
       "      <td>0</td>\n",
       "      <td>0</td>\n",
       "      <td>0</td>\n",
       "      <td>0</td>\n",
       "      <td>0</td>\n",
       "      <td>0</td>\n",
       "      <td>0</td>\n",
       "      <td>0</td>\n",
       "      <td>0</td>\n",
       "      <td>...</td>\n",
       "      <td>0</td>\n",
       "      <td>0</td>\n",
       "      <td>0</td>\n",
       "      <td>0</td>\n",
       "      <td>0</td>\n",
       "      <td>0</td>\n",
       "      <td>0</td>\n",
       "      <td>0</td>\n",
       "      <td>0</td>\n",
       "      <td>0</td>\n",
       "    </tr>\n",
       "    <tr>\n",
       "      <th>2</th>\n",
       "      <td>0</td>\n",
       "      <td>0</td>\n",
       "      <td>0</td>\n",
       "      <td>0</td>\n",
       "      <td>0</td>\n",
       "      <td>0</td>\n",
       "      <td>0</td>\n",
       "      <td>0</td>\n",
       "      <td>0</td>\n",
       "      <td>0</td>\n",
       "      <td>...</td>\n",
       "      <td>0</td>\n",
       "      <td>0</td>\n",
       "      <td>0</td>\n",
       "      <td>0</td>\n",
       "      <td>0</td>\n",
       "      <td>0</td>\n",
       "      <td>0</td>\n",
       "      <td>0</td>\n",
       "      <td>0</td>\n",
       "      <td>0</td>\n",
       "    </tr>\n",
       "    <tr>\n",
       "      <th>3</th>\n",
       "      <td>0</td>\n",
       "      <td>0</td>\n",
       "      <td>0</td>\n",
       "      <td>0</td>\n",
       "      <td>0</td>\n",
       "      <td>0</td>\n",
       "      <td>0</td>\n",
       "      <td>0</td>\n",
       "      <td>0</td>\n",
       "      <td>0</td>\n",
       "      <td>...</td>\n",
       "      <td>0</td>\n",
       "      <td>0</td>\n",
       "      <td>0</td>\n",
       "      <td>0</td>\n",
       "      <td>0</td>\n",
       "      <td>0</td>\n",
       "      <td>0</td>\n",
       "      <td>0</td>\n",
       "      <td>0</td>\n",
       "      <td>0</td>\n",
       "    </tr>\n",
       "    <tr>\n",
       "      <th>4</th>\n",
       "      <td>0</td>\n",
       "      <td>0</td>\n",
       "      <td>0</td>\n",
       "      <td>0</td>\n",
       "      <td>0</td>\n",
       "      <td>0</td>\n",
       "      <td>0</td>\n",
       "      <td>0</td>\n",
       "      <td>0</td>\n",
       "      <td>0</td>\n",
       "      <td>...</td>\n",
       "      <td>0</td>\n",
       "      <td>0</td>\n",
       "      <td>0</td>\n",
       "      <td>0</td>\n",
       "      <td>0</td>\n",
       "      <td>0</td>\n",
       "      <td>0</td>\n",
       "      <td>0</td>\n",
       "      <td>0</td>\n",
       "      <td>0</td>\n",
       "    </tr>\n",
       "    <tr>\n",
       "      <th>...</th>\n",
       "      <td>...</td>\n",
       "      <td>...</td>\n",
       "      <td>...</td>\n",
       "      <td>...</td>\n",
       "      <td>...</td>\n",
       "      <td>...</td>\n",
       "      <td>...</td>\n",
       "      <td>...</td>\n",
       "      <td>...</td>\n",
       "      <td>...</td>\n",
       "      <td>...</td>\n",
       "      <td>...</td>\n",
       "      <td>...</td>\n",
       "      <td>...</td>\n",
       "      <td>...</td>\n",
       "      <td>...</td>\n",
       "      <td>...</td>\n",
       "      <td>...</td>\n",
       "      <td>...</td>\n",
       "      <td>...</td>\n",
       "      <td>...</td>\n",
       "    </tr>\n",
       "    <tr>\n",
       "      <th>155</th>\n",
       "      <td>0</td>\n",
       "      <td>0</td>\n",
       "      <td>0</td>\n",
       "      <td>0</td>\n",
       "      <td>0</td>\n",
       "      <td>0</td>\n",
       "      <td>0</td>\n",
       "      <td>0</td>\n",
       "      <td>0</td>\n",
       "      <td>0</td>\n",
       "      <td>...</td>\n",
       "      <td>0</td>\n",
       "      <td>0</td>\n",
       "      <td>0</td>\n",
       "      <td>0</td>\n",
       "      <td>0</td>\n",
       "      <td>0</td>\n",
       "      <td>0</td>\n",
       "      <td>0</td>\n",
       "      <td>0</td>\n",
       "      <td>0</td>\n",
       "    </tr>\n",
       "    <tr>\n",
       "      <th>156</th>\n",
       "      <td>0</td>\n",
       "      <td>0</td>\n",
       "      <td>0</td>\n",
       "      <td>0</td>\n",
       "      <td>0</td>\n",
       "      <td>0</td>\n",
       "      <td>0</td>\n",
       "      <td>0</td>\n",
       "      <td>0</td>\n",
       "      <td>0</td>\n",
       "      <td>...</td>\n",
       "      <td>0</td>\n",
       "      <td>0</td>\n",
       "      <td>0</td>\n",
       "      <td>0</td>\n",
       "      <td>0</td>\n",
       "      <td>0</td>\n",
       "      <td>0</td>\n",
       "      <td>0</td>\n",
       "      <td>0</td>\n",
       "      <td>0</td>\n",
       "    </tr>\n",
       "    <tr>\n",
       "      <th>157</th>\n",
       "      <td>0</td>\n",
       "      <td>0</td>\n",
       "      <td>0</td>\n",
       "      <td>0</td>\n",
       "      <td>0</td>\n",
       "      <td>0</td>\n",
       "      <td>0</td>\n",
       "      <td>0</td>\n",
       "      <td>0</td>\n",
       "      <td>0</td>\n",
       "      <td>...</td>\n",
       "      <td>0</td>\n",
       "      <td>0</td>\n",
       "      <td>0</td>\n",
       "      <td>0</td>\n",
       "      <td>0</td>\n",
       "      <td>0</td>\n",
       "      <td>0</td>\n",
       "      <td>0</td>\n",
       "      <td>0</td>\n",
       "      <td>0</td>\n",
       "    </tr>\n",
       "    <tr>\n",
       "      <th>158</th>\n",
       "      <td>0</td>\n",
       "      <td>0</td>\n",
       "      <td>0</td>\n",
       "      <td>0</td>\n",
       "      <td>0</td>\n",
       "      <td>0</td>\n",
       "      <td>0</td>\n",
       "      <td>0</td>\n",
       "      <td>0</td>\n",
       "      <td>0</td>\n",
       "      <td>...</td>\n",
       "      <td>0</td>\n",
       "      <td>0</td>\n",
       "      <td>0</td>\n",
       "      <td>0</td>\n",
       "      <td>0</td>\n",
       "      <td>0</td>\n",
       "      <td>0</td>\n",
       "      <td>0</td>\n",
       "      <td>0</td>\n",
       "      <td>0</td>\n",
       "    </tr>\n",
       "    <tr>\n",
       "      <th>159</th>\n",
       "      <td>0</td>\n",
       "      <td>0</td>\n",
       "      <td>0</td>\n",
       "      <td>0</td>\n",
       "      <td>0</td>\n",
       "      <td>0</td>\n",
       "      <td>0</td>\n",
       "      <td>0</td>\n",
       "      <td>0</td>\n",
       "      <td>0</td>\n",
       "      <td>...</td>\n",
       "      <td>0</td>\n",
       "      <td>0</td>\n",
       "      <td>0</td>\n",
       "      <td>0</td>\n",
       "      <td>0</td>\n",
       "      <td>0</td>\n",
       "      <td>0</td>\n",
       "      <td>0</td>\n",
       "      <td>0</td>\n",
       "      <td>0</td>\n",
       "    </tr>\n",
       "  </tbody>\n",
       "</table>\n",
       "<p>160 rows × 6484 columns</p>\n",
       "</div>"
      ],
      "text/plain": [
       "     aaaaaaaarghh  aaaaaaaarghh ogre  aaah  aaah staring  aaargh  \\\n",
       "0               0                  0     0             0       0   \n",
       "1               0                  0     0             0       0   \n",
       "2               0                  0     0             0       0   \n",
       "3               0                  0     0             0       0   \n",
       "4               0                  0     0             0       0   \n",
       "..            ...                ...   ...           ...     ...   \n",
       "155             0                  0     0             0       0   \n",
       "156             0                  0     0             0       0   \n",
       "157             0                  0     0             0       0   \n",
       "158             0                  0     0             0       0   \n",
       "159             0                  0     0             0       0   \n",
       "\n",
       "     aaargh aaaaaaaarghh  abandoned  abandoned places  absolutely  \\\n",
       "0                      0          0                 0           0   \n",
       "1                      0          0                 0           0   \n",
       "2                      0          0                 0           0   \n",
       "3                      0          0                 0           0   \n",
       "4                      0          0                 0           0   \n",
       "..                   ...        ...               ...         ...   \n",
       "155                    0          0                 0           0   \n",
       "156                    0          0                 0           0   \n",
       "157                    0          0                 0           0   \n",
       "158                    0          0                 0           0   \n",
       "159                    0          0                 0           0   \n",
       "\n",
       "     absolutely drive  ...  yesterday grow  yesterday life  yonder  \\\n",
       "0                   0  ...               0               0       0   \n",
       "1                   0  ...               0               0       0   \n",
       "2                   0  ...               0               0       0   \n",
       "3                   0  ...               0               0       0   \n",
       "4                   0  ...               0               0       0   \n",
       "..                ...  ...             ...             ...     ...   \n",
       "155                 0  ...               0               0       0   \n",
       "156                 0  ...               0               0       0   \n",
       "157                 0  ...               0               0       0   \n",
       "158                 0  ...               0               0       0   \n",
       "159                 0  ...               0               0       0   \n",
       "\n",
       "     yonder burying  yonder gone  yonder looky  young  young crazy  \\\n",
       "0                 0            0             0      0            0   \n",
       "1                 0            0             0      0            0   \n",
       "2                 0            0             0      0            0   \n",
       "3                 0            0             0      0            0   \n",
       "4                 0            0             0      0            0   \n",
       "..              ...          ...           ...    ...          ...   \n",
       "155               0            0             0      0            0   \n",
       "156               0            0             0      0            0   \n",
       "157               0            0             0      0            0   \n",
       "158               0            0             0      0            0   \n",
       "159               0            0             0      0            0   \n",
       "\n",
       "     young hard  young poor  \n",
       "0             0           0  \n",
       "1             0           0  \n",
       "2             0           0  \n",
       "3             0           0  \n",
       "4             0           0  \n",
       "..          ...         ...  \n",
       "155           0           0  \n",
       "156           0           0  \n",
       "157           0           0  \n",
       "158           0           0  \n",
       "159           0           0  \n",
       "\n",
       "[160 rows x 6484 columns]"
      ]
     },
     "execution_count": 168,
     "metadata": {},
     "output_type": "execute_result"
    }
   ],
   "source": [
    "X_cv = pd.DataFrame(X_cv.todense(),columns=vectorizer.get_feature_names())\n",
    "X_cv"
   ]
  },
  {
   "cell_type": "code",
   "execution_count": 14,
   "id": "3d60d741",
   "metadata": {},
   "outputs": [],
   "source": [
    "# X_train_cv = pd.DataFrame(X_cv, columns=vectorizer.get_feature_names_out())\n",
    "# X_train_cv.shape\n",
    "\n",
    "# X_train_cv.head()"
   ]
  },
  {
   "cell_type": "code",
   "execution_count": 169,
   "id": "ec47d2b7",
   "metadata": {},
   "outputs": [
    {
     "data": {
      "text/plain": [
       "((40,), (40,))"
      ]
     },
     "execution_count": 169,
     "metadata": {},
     "output_type": "execute_result"
    }
   ],
   "source": [
    "X_test\n",
    "X_test.shape, y_test.shape"
   ]
  },
  {
   "cell_type": "code",
   "execution_count": 170,
   "id": "e4b10f9b",
   "metadata": {},
   "outputs": [],
   "source": [
    "#Vectorise and transform X_test also\n",
    "X_test_cv = vectorizer.transform(X_test)\n",
    "X_test_bow = pd.DataFrame(X_test_cv.todense(), columns=vectorizer.get_feature_names_out())"
   ]
  },
  {
   "cell_type": "code",
   "execution_count": 171,
   "id": "cbfd5be0",
   "metadata": {},
   "outputs": [
    {
     "data": {
      "text/plain": [
       "(40, 6484)"
      ]
     },
     "execution_count": 171,
     "metadata": {},
     "output_type": "execute_result"
    }
   ],
   "source": [
    "X_test_bow.shape"
   ]
  },
  {
   "cell_type": "code",
   "execution_count": 172,
   "id": "3d2da01f",
   "metadata": {},
   "outputs": [],
   "source": [
    "m=LogisticRegression(max_iter=1000, penalty='l2', C=0.8 )"
   ]
  },
  {
   "cell_type": "code",
   "execution_count": 173,
   "id": "275e3227",
   "metadata": {},
   "outputs": [
    {
     "data": {
      "text/plain": [
       "LogisticRegression(C=0.8, max_iter=1000)"
      ]
     },
     "execution_count": 173,
     "metadata": {},
     "output_type": "execute_result"
    }
   ],
   "source": [
    "m.fit(X_cv, y_train)"
   ]
  },
  {
   "cell_type": "code",
   "execution_count": 175,
   "id": "d7b20ed4",
   "metadata": {},
   "outputs": [
    {
     "data": {
      "text/plain": [
       "1.0"
      ]
     },
     "execution_count": 175,
     "metadata": {},
     "output_type": "execute_result"
    }
   ],
   "source": [
    "m.score(X_cv, y_train)"
   ]
  },
  {
   "cell_type": "code",
   "execution_count": 176,
   "id": "e6204390",
   "metadata": {},
   "outputs": [
    {
     "data": {
      "text/plain": [
       "0.975"
      ]
     },
     "execution_count": 176,
     "metadata": {},
     "output_type": "execute_result"
    }
   ],
   "source": [
    "m.score(X_test_bow, y_test)"
   ]
  },
  {
   "cell_type": "code",
   "execution_count": 177,
   "id": "ad9b1552",
   "metadata": {},
   "outputs": [
    {
     "data": {
      "text/plain": [
       "array([1, 1, 0, 1, 0, 1, 0, 1, 1, 0, 0, 1, 0, 0, 0, 0, 1, 0, 1, 0, 1, 1,\n",
       "       0, 0, 1, 1, 1, 1, 1, 0, 0, 1, 1, 0, 0, 0, 0, 0, 1, 0])"
      ]
     },
     "execution_count": 177,
     "metadata": {},
     "output_type": "execute_result"
    }
   ],
   "source": [
    "m.predict(X_test_bow)"
   ]
  },
  {
   "cell_type": "code",
   "execution_count": 178,
   "id": "e2814959",
   "metadata": {},
   "outputs": [
    {
     "data": {
      "text/plain": [
       "array([[0.01, 0.99],\n",
       "       [0.03, 0.97],\n",
       "       [0.99, 0.01],\n",
       "       [0.02, 0.98],\n",
       "       [0.99, 0.01],\n",
       "       [0.01, 0.99],\n",
       "       [1.  , 0.  ],\n",
       "       [0.02, 0.98],\n",
       "       [0.01, 0.99],\n",
       "       [0.99, 0.01],\n",
       "       [1.  , 0.  ],\n",
       "       [0.  , 1.  ],\n",
       "       [1.  , 0.  ],\n",
       "       [0.98, 0.02],\n",
       "       [0.71, 0.29],\n",
       "       [1.  , 0.  ],\n",
       "       [0.19, 0.81],\n",
       "       [0.99, 0.01],\n",
       "       [0.01, 0.99],\n",
       "       [1.  , 0.  ],\n",
       "       [0.01, 0.99],\n",
       "       [0.01, 0.99],\n",
       "       [0.99, 0.01],\n",
       "       [1.  , 0.  ],\n",
       "       [0.  , 1.  ],\n",
       "       [0.  , 1.  ],\n",
       "       [0.02, 0.98],\n",
       "       [0.03, 0.97],\n",
       "       [0.05, 0.95],\n",
       "       [0.59, 0.41],\n",
       "       [1.  , 0.  ],\n",
       "       [0.1 , 0.9 ],\n",
       "       [0.01, 0.99],\n",
       "       [0.99, 0.01],\n",
       "       [1.  , 0.  ],\n",
       "       [0.98, 0.02],\n",
       "       [1.  , 0.  ],\n",
       "       [0.97, 0.03],\n",
       "       [0.  , 1.  ],\n",
       "       [0.87, 0.13]])"
      ]
     },
     "execution_count": 178,
     "metadata": {},
     "output_type": "execute_result"
    }
   ],
   "source": [
    "np.round(m.predict_proba(X_test_bow), 2)"
   ]
  },
  {
   "cell_type": "code",
   "execution_count": 24,
   "id": "884f5a4a",
   "metadata": {},
   "outputs": [],
   "source": [
    "# #REGULARISATION\n",
    "# from sklearn.linear_model import Ridge\n",
    "# m_ridge = Ridge(alpha=0.4)\n",
    "# m_ridge.fit(df_bow_sklearn, y_train)\n",
    "# ypred_ridge = m_ridge.predict(df_bow_sklearn)"
   ]
  },
  {
   "cell_type": "code",
   "execution_count": 179,
   "id": "0ae6abe5",
   "metadata": {},
   "outputs": [
    {
     "data": {
      "text/plain": [
       "'Cross-validation mean 0.950 +- 0.073'"
      ]
     },
     "execution_count": 179,
     "metadata": {},
     "output_type": "execute_result"
    }
   ],
   "source": [
    "#Cross Validation\n",
    "cv_all = cross_val_score(m, X_cv, y_train, cv=10, scoring='accuracy')\n",
    "cv_mean = cv_all.mean()\n",
    "cv_std = cv_all.std()\n",
    "f\"Cross-validation mean {cv_mean:5.3f} +- {cv_std:5.3f}\""
   ]
  },
  {
   "cell_type": "code",
   "execution_count": 180,
   "id": "c14e9384",
   "metadata": {},
   "outputs": [
    {
     "data": {
      "text/plain": [
       "array([1.    , 0.75  , 0.9375, 0.9375, 1.    , 1.    , 1.    , 0.9375,\n",
       "       1.    , 0.9375])"
      ]
     },
     "execution_count": 180,
     "metadata": {},
     "output_type": "execute_result"
    }
   ],
   "source": [
    "cv_all"
   ]
  },
  {
   "cell_type": "code",
   "execution_count": 181,
   "id": "4fcae639",
   "metadata": {},
   "outputs": [
    {
     "data": {
      "text/plain": [
       "<BarContainer object of 10 artists>"
      ]
     },
     "execution_count": 181,
     "metadata": {},
     "output_type": "execute_result"
    },
    {
     "data": {
      "image/png": "[encoded data removed]",
      "text/plain": [
       "<Figure size 432x288 with 1 Axes>"
      ]
     },
     "metadata": {
      "needs_background": "light"
     },
     "output_type": "display_data"
    }
   ],
   "source": [
    "# Lets visualise a distribution of the results\n",
    "plt.bar(range(10), cv_all)"
   ]
  },
  {
   "cell_type": "code",
   "execution_count": 182,
   "id": "50825456",
   "metadata": {},
   "outputs": [
    {
     "data": {
      "text/plain": [
       "1.0"
      ]
     },
     "execution_count": 182,
     "metadata": {},
     "output_type": "execute_result"
    }
   ],
   "source": [
    "m.fit(X_cv, y_train)\n",
    "train_score = m.score(X_cv, y_train)\n",
    "train_score"
   ]
  },
  {
   "cell_type": "code",
   "execution_count": 183,
   "id": "532deda2",
   "metadata": {},
   "outputs": [
    {
     "data": {
      "text/plain": [
       "False"
      ]
     },
     "execution_count": 183,
     "metadata": {},
     "output_type": "execute_result"
    }
   ],
   "source": [
    "# Is the score inside the range?\n",
    "train_score > cv_all.min() and train_score < cv_all.max()"
   ]
  },
  {
   "cell_type": "code",
   "execution_count": 184,
   "id": "7b0945ae",
   "metadata": {},
   "outputs": [
    {
     "data": {
      "text/plain": [
       "True"
      ]
     },
     "execution_count": 184,
     "metadata": {},
     "output_type": "execute_result"
    }
   ],
   "source": [
    "# Is the score is inside one sigma?\n",
    "abs(train_score - cv_mean) < cv_std "
   ]
  },
  {
   "cell_type": "code",
   "execution_count": 185,
   "id": "f725c659",
   "metadata": {},
   "outputs": [
    {
     "data": {
      "text/plain": [
       "0.975"
      ]
     },
     "execution_count": 185,
     "metadata": {},
     "output_type": "execute_result"
    }
   ],
   "source": [
    "test_score = m.score(X_test_bow, y_test)\n",
    "test_score"
   ]
  },
  {
   "cell_type": "code",
   "execution_count": 204,
   "id": "acd32b40",
   "metadata": {},
   "outputs": [],
   "source": [
    "#Evaluation\n",
    "ypred = m.predict(X_test_bow)\n"
   ]
  },
  {
   "cell_type": "code",
   "execution_count": 188,
   "id": "311b4689",
   "metadata": {},
   "outputs": [
    {
     "data": {
      "text/plain": [
       "<AxesSubplot:>"
      ]
     },
     "execution_count": 188,
     "metadata": {},
     "output_type": "execute_result"
    },
    {
     "data": {
      "image/png": "[encoded data removed]",
      "text/plain": [
       "<Figure size 864x576 with 2 Axes>"
      ]
     },
     "metadata": {
      "needs_background": "light"
     },
     "output_type": "display_data"
    }
   ],
   "source": [
    "#normalise the confusion matrix - its easier to interpret\n",
    "norm_cm = (confusion_matrix(y_test, ypred) / confusion_matrix(y_test, ypred).sum()) * 100\n",
    "norm_cm = norm_cm.round(2)\n",
    "# Confusion matrix\n",
    "plt.figure(figsize=(12,8))\n",
    "sns.heatmap(norm_cm, annot=True)"
   ]
  },
  {
   "cell_type": "code",
   "execution_count": 189,
   "id": "d996de13",
   "metadata": {},
   "outputs": [
    {
     "data": {
      "text/plain": [
       "Text(0.5, 1.0, 'roc curve')"
      ]
     },
     "execution_count": 189,
     "metadata": {},
     "output_type": "execute_result"
    },
    {
     "data": {
      "image/png": "[encoded data removed]",
      "text/plain": [
       "<Figure size 864x576 with 1 Axes>"
      ]
     },
     "metadata": {
      "needs_background": "light"
     },
     "output_type": "display_data"
    }
   ],
   "source": [
    "# roc curve\n",
    "ypred_proba = m.predict_proba(X_test_bow)[:,1]\n",
    "fpr, tpr, threshold = roc_curve(y_test, ypred_proba)\n",
    "plt.figure(figsize=(12,8))\n",
    "plt.plot(fpr,tpr)\n",
    "plt.xlabel('false positive rate / precision')\n",
    "plt.ylabel('true positive rate / recall')\n",
    "plt.title('roc curve')"
   ]
  },
  {
   "cell_type": "code",
   "execution_count": 190,
   "id": "41c74af3",
   "metadata": {},
   "outputs": [],
   "source": [
    "#NAIVE BAYES\n",
    "from sklearn.feature_extraction.text import TfidfVectorizer\n",
    "from sklearn.naive_bayes import MultinomialNB\n",
    "\n",
    "from sklearn.pipeline import make_pipeline\n"
   ]
  },
  {
   "cell_type": "code",
   "execution_count": 191,
   "id": "53fe98ac",
   "metadata": {},
   "outputs": [
    {
     "data": {
      "text/plain": [
       "((160,), (160, 6484))"
      ]
     },
     "execution_count": 191,
     "metadata": {},
     "output_type": "execute_result"
    }
   ],
   "source": [
    "y_train.shape, X_cv.shape"
   ]
  },
  {
   "cell_type": "code",
   "execution_count": 192,
   "id": "65abf103",
   "metadata": {},
   "outputs": [
    {
     "data": {
      "text/plain": [
       "MultinomialNB()"
      ]
     },
     "execution_count": 192,
     "metadata": {},
     "output_type": "execute_result"
    }
   ],
   "source": [
    "m1=MultinomialNB()\n",
    "m1.fit(X_cv, y_train)\n"
   ]
  },
  {
   "cell_type": "code",
   "execution_count": 193,
   "id": "d7d612f1",
   "metadata": {},
   "outputs": [
    {
     "data": {
      "text/plain": [
       "1.0"
      ]
     },
     "execution_count": 193,
     "metadata": {},
     "output_type": "execute_result"
    }
   ],
   "source": [
    "m1.score(X_cv, y_train)\n"
   ]
  },
  {
   "cell_type": "code",
   "execution_count": 194,
   "id": "0504cebf",
   "metadata": {},
   "outputs": [
    {
     "data": {
      "text/plain": [
       "0.95"
      ]
     },
     "execution_count": 194,
     "metadata": {},
     "output_type": "execute_result"
    }
   ],
   "source": [
    "m1.score(X_test_bow, y_test)\n"
   ]
  },
  {
   "cell_type": "code",
   "execution_count": 195,
   "id": "44f7c582",
   "metadata": {},
   "outputs": [
    {
     "data": {
      "text/plain": [
       "array([1, 1, 0, 1, 0, 1, 0, 1, 1, 0, 0, 1, 0, 0, 0, 0, 1, 0, 1, 0, 1, 1,\n",
       "       0, 0, 1, 1, 1, 1, 1, 1, 0, 1, 1, 0, 0, 0, 0, 0, 1, 0])"
      ]
     },
     "execution_count": 195,
     "metadata": {},
     "output_type": "execute_result"
    }
   ],
   "source": [
    "m1.predict(X_test_bow)\n"
   ]
  },
  {
   "cell_type": "code",
   "execution_count": 196,
   "id": "aa3cf601",
   "metadata": {},
   "outputs": [
    {
     "data": {
      "text/plain": [
       "array([[0., 1.],\n",
       "       [0., 1.],\n",
       "       [1., 0.],\n",
       "       [0., 1.],\n",
       "       [1., 0.],\n",
       "       [0., 1.],\n",
       "       [1., 0.],\n",
       "       [0., 1.],\n",
       "       [0., 1.],\n",
       "       [1., 0.],\n",
       "       [1., 0.],\n",
       "       [0., 1.],\n",
       "       [1., 0.],\n",
       "       [1., 0.],\n",
       "       [1., 0.],\n",
       "       [1., 0.],\n",
       "       [0., 1.],\n",
       "       [1., 0.],\n",
       "       [0., 1.],\n",
       "       [1., 0.],\n",
       "       [0., 1.],\n",
       "       [0., 1.],\n",
       "       [1., 0.],\n",
       "       [1., 0.],\n",
       "       [0., 1.],\n",
       "       [0., 1.],\n",
       "       [0., 1.],\n",
       "       [0., 1.],\n",
       "       [0., 1.],\n",
       "       [0., 1.],\n",
       "       [1., 0.],\n",
       "       [0., 1.],\n",
       "       [0., 1.],\n",
       "       [1., 0.],\n",
       "       [1., 0.],\n",
       "       [1., 0.],\n",
       "       [1., 0.],\n",
       "       [1., 0.],\n",
       "       [0., 1.],\n",
       "       [1., 0.]])"
      ]
     },
     "execution_count": 196,
     "metadata": {},
     "output_type": "execute_result"
    }
   ],
   "source": [
    "np.round(m1.predict_proba(X_test_bow), 2)"
   ]
  },
  {
   "cell_type": "code",
   "execution_count": 197,
   "id": "4fe96ebf",
   "metadata": {},
   "outputs": [],
   "source": [
    "ypred1 = m1.predict(X_test_bow)"
   ]
  },
  {
   "cell_type": "code",
   "execution_count": 198,
   "id": "0ca43d7d",
   "metadata": {},
   "outputs": [
    {
     "data": {
      "text/plain": [
       "<AxesSubplot:>"
      ]
     },
     "execution_count": 198,
     "metadata": {},
     "output_type": "execute_result"
    },
    {
     "data": {
      "image/png": "[encoded data removed]",
      "text/plain": [
       "<Figure size 864x576 with 2 Axes>"
      ]
     },
     "metadata": {
      "needs_background": "light"
     },
     "output_type": "display_data"
    }
   ],
   "source": [
    "#normalise the confusion matrix - its easier to interpret\n",
    "norm_cm = (confusion_matrix(y_test, ypred1) / confusion_matrix(y_test, ypred1).sum()) * 100\n",
    "norm_cm = norm_cm.round(2)\n",
    "# Confusion matrix\n",
    "plt.figure(figsize=(12,8))\n",
    "sns.heatmap(norm_cm, annot=True)"
   ]
  }
 ],
 "metadata": {
  "kernelspec": {
   "display_name": "Python 3 (ipykernel)",
   "language": "python",
   "name": "python3"
  },
  "language_info": {
   "codemirror_mode": {
    "name": "ipython",
    "version": 3
   },
   "file_extension": ".py",
   "mimetype": "text/x-python",
   "name": "python",
   "nbconvert_exporter": "python",
   "pygments_lexer": "ipython3",
   "version": "3.9.7"
  }
 },
 "nbformat": 4,
 "nbformat_minor": 5
}
